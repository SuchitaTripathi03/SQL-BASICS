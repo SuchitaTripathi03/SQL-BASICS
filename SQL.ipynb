{
  "nbformat": 4,
  "nbformat_minor": 0,
  "metadata": {
    "colab": {
      "provenance": [],
      "authorship_tag": "ABX9TyPW4ZJnxS7gZRMH16DdZFEk",
      "include_colab_link": true
    },
    "kernelspec": {
      "name": "python3",
      "display_name": "Python 3"
    },
    "language_info": {
      "name": "python"
    }
  },
  "cells": [
    {
      "cell_type": "markdown",
      "metadata": {
        "id": "view-in-github",
        "colab_type": "text"
      },
      "source": [
        "<a href=\"https://colab.research.google.com/github/SuchitaTripathi03/SQL-BASICS/blob/main/SQL.ipynb\" target=\"_parent\"><img src=\"https://colab.research.google.com/assets/colab-badge.svg\" alt=\"Open In Colab\"/></a>"
      ]
    },
    {
      "cell_type": "code",
      "execution_count": null,
      "metadata": {
        "id": "sebtpAEAlCDE"
      },
      "outputs": [],
      "source": [
        "## QUES 1) 1. Create a table called employees with the following structure?\n",
        "##: emp_id (integer, should not be NULL and should be a primary key)Q\n",
        "##: emp_name (text, should not be NULL)Q\n",
        "##: age (integer, should have a check constraint to ensure the age is at least 18)Q\n",
        "##: email (text, should be unique for each employee)Q\n",
        "##: salary (decimal, with a default value of 30,000).\n",
        "\n",
        "## Write the SQL query to create the above table with all constraints."
      ]
    },
    {
      "cell_type": "markdown",
      "source": [
        "CREATE TABLE employees (\n",
        "    emp_id INTEGER NOT NULL PRIMARY KEY,\n",
        "    emp_name TEXT NOT NULL,\n",
        "    age INTEGER CHECK (age >= 18),\n",
        "    email TEXT UNIQUE,\n",
        "    salary DECIMAL DEFAULT 30000\n",
        ");"
      ],
      "metadata": {
        "id": "0bhs1V94msQQ"
      }
    },
    {
      "cell_type": "code",
      "source": [
        "##QUES 2) Explain the purpose of constraints and how they help maintain data integrity in a database. Provide\n",
        "##examples of common types of constraints."
      ],
      "metadata": {
        "id": "LOc8yp0mmz3S"
      },
      "execution_count": null,
      "outputs": []
    },
    {
      "cell_type": "markdown",
      "source": [
        "Constraints in a database serve as essential rules that enforce the accuracy, consistency, and reliability of the data stored within tables. They act as safeguards, ensuring that only valid and meaningful information enters the system. For instance, a **NOT NULL** constraint prevents critical fields like employee names from being left blank, while a **CHECK** constraint can enforce logical conditions—such as ensuring an employee’s age is at least 18. A **UNIQUE** constraint guarantees that no two employees share the same email address, preserving identity and avoiding duplication. The **PRIMARY KEY** constraint uniquely identifies each record, making retrieval and referencing efficient and error-free. Additionally, **DEFAULT** values can automatically populate fields like salary when no input is provided, maintaining consistency across entries. Together, these constraints uphold data integrity by reducing human error, supporting relational logic between tables, and streamlining the validation process at the database level—making the system more robust and trustworthy.\n"
      ],
      "metadata": {
        "id": "ETOeIhO8oejB"
      }
    },
    {
      "cell_type": "code",
      "source": [
        "##QUES 3) Why would you apply the NOT NULL constraint to a column? Can a primary key contain NULL values? Justify\n",
        "##your answer."
      ],
      "metadata": {
        "id": "HB76B3IEm1in"
      },
      "execution_count": null,
      "outputs": []
    },
    {
      "cell_type": "markdown",
      "source": [
        "The **NOT NULL** constraint is applied to a column to ensure that every record in the table contains a valid, non-missing value for that field. This is crucial when the column holds essential information—like a person's name, ID, or date of birth—where the absence of data would compromise the integrity or usefulness of the record. For example, if an employee’s name were allowed to be NULL, it would be difficult to identify or reference that individual meaningfully.\n",
        "\n",
        "A **primary key**, by definition, cannot contain NULL values. This is because a primary key must uniquely identify each row in a table, and NULL represents an unknown or undefined value. If NULLs were allowed in a primary key, it would violate the uniqueness requirement—since multiple rows could have NULL in the key column, and the database wouldn’t be able to distinguish between them. Therefore, every column that is part of a primary key must be both **NOT NULL** and **unique**, ensuring that each row is reliably and distinctly identifiable.\n"
      ],
      "metadata": {
        "id": "wyohYYTYpjIS"
      }
    },
    {
      "cell_type": "code",
      "source": [
        "##QUES 4)Explain the steps and SQL commands used to add or remove constraints on an existing table. Provide an\n",
        "## example for both adding and removing a constraint."
      ],
      "metadata": {
        "id": "vxbc2W-Um1fG"
      },
      "execution_count": null,
      "outputs": []
    },
    {
      "cell_type": "markdown",
      "source": [
        "Constraints in SQL are rules enforced on data columns to maintain data integrity. You can add or remove constraints on an existing table using the ALTER TABLE command.\n",
        "Steps to Add a Constraint\n",
        "- Identify the table and column where the constraint is needed.\n",
        "- Use the ALTER TABLE command followed by ADD CONSTRAINT.\n",
        "- Specify the constraint type (PRIMARY KEY, FOREIGN KEY, UNIQUE, CHECK, NOT NULL, etc.).\n",
        "- Name the constraint (optional but recommended for easier removal later).\n",
        " Example: Add a CHECK Constraint\n",
        "ALTER TABLE Employees\n",
        "ADD CONSTRAINT chk_salary\n",
        "CHECK (Salary >= 30000);\n",
        "Steps to Remove a Constraint\n",
        "- Know the name of the constraint you want to remove.\n",
        "- Use the ALTER TABLE command followed by DROP CONSTRAINT.\n",
        "- Some databases (like MySQL) may use DROP PRIMARY KEY or DROP FOREIGN KEY instead.\n",
        " Example: Remove the CHECK Constraint\n",
        "ALTER TABLE Employees\n",
        "DROP CONSTRAINT chk_salary;\n",
        "\n"
      ],
      "metadata": {
        "id": "LBT7HkIQCKIA"
      }
    },
    {
      "cell_type": "code",
      "source": [
        "##QUES 5) Explain the consequences of attempting to insert, update, or delete data in a way that violates constraints.\n",
        "## Provide an example of an error message that might occur when violating a constraint."
      ],
      "metadata": {
        "id": "8SslrypAm1ch"
      },
      "execution_count": null,
      "outputs": []
    },
    {
      "cell_type": "markdown",
      "source": [
        "Violating constraints during INSERT, UPDATE, or DELETE operations in SQL can lead to errors, rejected transactions, and data integrity issues.\n",
        "Example: Violating a FOREIGN KEY Constraint\n",
        "Suppose you have two tables:\n",
        "CREATE TABLE Departments (\n",
        "    DeptID INT PRIMARY KEY,\n",
        "    DeptName VARCHAR(50)\n",
        ");\n",
        "\n",
        "CREATE TABLE Employees (\n",
        "    EmpID INT PRIMARY KEY,\n",
        "    EmpName VARCHAR(50),\n",
        "    DeptID INT,\n",
        "    FOREIGN KEY (DeptID) REFERENCES Departments(DeptID)\n",
        ");\n",
        "\n",
        "\n",
        "Now, if you try to insert an employee with a DeptID that doesn't exist in Departments:\n",
        "INSERT INTO Employees (EmpID, EmpName, DeptID)\n",
        "VALUES (101, 'Alice', 999);  -- DeptID 999 doesn't exist\n",
        "\n",
        "We will get an error like:\n",
        "Msg 547, Level 16, State 0, Line 1\n",
        "The INSERT statement conflicted with the FOREIGN KEY constraint \"FK_Employees_Departments\".\n",
        "The conflict occurred in database \"CompanyDB\", table \"Departments\", column 'DeptID'.\n"
      ],
      "metadata": {
        "id": "kxG39yMyDO99"
      }
    },
    {
      "cell_type": "code",
      "source": [
        "##QUES 6)  You created a products table without constraints as follows:\n",
        "\n",
        "##CREATE TABLE products (\n",
        "\n",
        "## product_id INT,\n",
        "\n",
        "##product_name VARCHAR(50),\n",
        "\n",
        "##price DECIMAL(10, 2));\n",
        "##Now, you realise that?\n",
        "##: The product_id should be a primary keyQ\n",
        "##: The price should have a default value of 50.00"
      ],
      "metadata": {
        "id": "hDsZDHQBm1Z9"
      },
      "execution_count": null,
      "outputs": []
    },
    {
      "cell_type": "markdown",
      "source": [
        "1. Add a PRIMARY KEY Constraint to product_id\n",
        "This ensures each product has a unique identifier:\n",
        "ALTER TABLE products\n",
        "ADD CONSTRAINT pk_product_id PRIMARY KEY (product_id);\n",
        "2.Set a Default Value for price\n",
        "This ensures that if no price is provided during insertion, it defaults to 50.00:\n",
        "ALTER TABLE products\n",
        "ALTER COLUMN price SET DEFAULT 50.00;\n",
        "\n",
        "ALTER TABLE products\n",
        "ADD CONSTRAINT df_price_default DEFAULT 50.00 FOR price;\n",
        "\n",
        "ALTER TABLE products\n",
        "ADD CONSTRAINT df_price_default DEFAULT 50.00 FOR price;\n",
        "\n"
      ],
      "metadata": {
        "id": "Ri3JeRA2T71I"
      }
    },
    {
      "cell_type": "code",
      "source": [
        "##QUES 7) You have two tables:\n",
        "##Write a query to fetch the student_name and class_name for each student using an INNER JOIN."
      ],
      "metadata": {
        "id": "vzu4iStNm1XD"
      },
      "execution_count": null,
      "outputs": []
    },
    {
      "cell_type": "markdown",
      "source": [
        "SELECT Students.student_name, Classes.class_name\n",
        "FROM Students\n",
        "INNER JOIN Classes ON Students.class_id = Classes.class_id;\n"
      ],
      "metadata": {
        "id": "jRDDkHXQWDNG"
      }
    },
    {
      "cell_type": "code",
      "source": [
        "##QUES 8)Consider the following three tables:\n",
        "##Write a query that shows all order_id, customer_name, and product_name, ensuring that all products are\n",
        "##listed even if they are not associated with an order\n",
        "\n",
        "##Hint: (use INNER JOIN and LEFT JOIN)\n"
      ],
      "metadata": {
        "id": "-UkTjPEBm1Um"
      },
      "execution_count": null,
      "outputs": []
    },
    {
      "cell_type": "markdown",
      "source": [
        "SELECT\n",
        "\n",
        "    o.order_id,\n",
        "\n",
        "    c.customer_name,\n",
        "\n",
        "    p.product_name\n",
        "FROM\n",
        "\n",
        "    Products p\n",
        "\n",
        "LEFT JOIN\n",
        "\n",
        "    Orders o ON p.order_id = o.order_id\n",
        "\n",
        "LEFT JOIN\n",
        "\n",
        "    Customers c ON o.customer_id = c.customer_id;\n",
        "\n"
      ],
      "metadata": {
        "id": "eyE_vNMogrJ6"
      }
    },
    {
      "cell_type": "code",
      "source": [
        "##QUES 9) 5 Given the following tables:\n",
        "##Write a query to find the total sales amount for each product using an INNER JOIN and the SUM() function."
      ],
      "metadata": {
        "id": "NyIlTXsbm1SX"
      },
      "execution_count": null,
      "outputs": []
    },
    {
      "cell_type": "markdown",
      "source": [
        "SELECT p.product_name, SUM(s.amount) AS total_sales\n",
        "FROM Sales s\n",
        "INNER JOIN Products p\n",
        "ON s.product_id = p.product_id\n",
        "GROUP BY p.product_name;\n"
      ],
      "metadata": {
        "id": "eVLB-EQPibZv"
      }
    },
    {
      "cell_type": "code",
      "source": [
        "##QUES 10)You are given three tables:\n",
        "##Write a query to display the order_id, customer_name, and the quantity of products ordered by each\n",
        "##customer using an INNER JOIN between all three tables."
      ],
      "metadata": {
        "id": "qPURH7kZm1Mw"
      },
      "execution_count": null,
      "outputs": []
    },
    {
      "cell_type": "markdown",
      "source": [
        "SELECT o.order_id, c.customer_name, od.quantity\n",
        "FROM Orders o\n",
        "INNER JOIN Customers c ON o.customer_id = c.customer_id\n",
        "INNER JOIN Order_Details od ON o.order_id = od.order_id;\n"
      ],
      "metadata": {
        "id": "L5zMTonfidGV"
      }
    },
    {
      "cell_type": "code",
      "source": [],
      "metadata": {
        "id": "ODQm7xGsm03Z"
      },
      "execution_count": null,
      "outputs": []
    }
  ]
}